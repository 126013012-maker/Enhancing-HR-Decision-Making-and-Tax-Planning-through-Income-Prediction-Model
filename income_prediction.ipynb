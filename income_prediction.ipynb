{
  "cells": [
    {
      "cell_type": "code",
      "source": [
        "import pandas as pd\n",
        "import numpy as np\n",
        "import matplotlib.pyplot as plt\n",
        "import seaborn as sns\n",
        "from sklearn.model_selection import train_test_split\n",
        "from sklearn.preprocessing import LabelEncoder, MinMaxScaler\n",
        "from sklearn.impute import SimpleImputer\n",
        "from sklearn.neighbors import KNeighborsClassifier\n",
        "from sklearn.linear_model import LogisticRegression\n",
        "from sklearn.tree import DecisionTreeClassifier\n",
        "from sklearn.svm import SVC\n",
        "from sklearn.neural_network import MLPClassifier\n",
        "from sklearn.metrics import accuracy_score, precision_score, recall_score, f1_score, classification_report\n",
        "\n",
        "# Load dataset\n",
        "data = pd.read_csv(\"/content/adult 3.csv\")\n",
        "\n",
        "#  Replace unknown values and remove unwanted rows\n",
        "data['workclass'].replace({'?': 'others'}, inplace=True)\n",
        "data['occupation'].replace({'?': 'others'}, inplace=True)\n",
        "data = data[data['workclass'] != 'Without-pay']\n",
        "data = data[data['workclass'] != 'Never-worked']\n",
        "data = data[~data['education'].isin(['5th-6th', '1st-4th', 'Preschool'])]\n",
        "\n",
        "# Drop redundancy\n",
        "if 'education' in data.columns:\n",
        "    data.drop(columns='education', inplace=True)\n",
        "\n",
        "#  Remove Outliers in 'age'\n",
        "Q1 = data['age'].quantile(0.25)\n",
        "Q3 = data['age'].quantile(0.75)\n",
        "IQR = Q3 - Q1\n",
        "lower_bound = Q1 - 1.5 * IQR\n",
        "upper_bound = Q3 + 1.5 * IQR\n",
        "data = data[(data['age'] >= lower_bound) & (data['age'] <= upper_bound)]\n",
        "\n",
        "# Boxplot to visualize\n",
        "plt.boxplot(data['age'])\n",
        "plt.title(\"Boxplot of Age after Outlier Removal\")\n",
        "plt.show()\n",
        "\n",
        "#  Encode Categorical Columns\n",
        "encoder = LabelEncoder()\n",
        "for col in ['workclass', 'marital-status', 'occupation', 'relationship', 'race', 'native-country', 'gender']:\n",
        "    data[col] = encoder.fit_transform(data[col])\n",
        "\n",
        "#  Encode Target\n",
        "if 'income' in data.columns:\n",
        "    data['income'] = encoder.fit_transform(data['income'])  # 0: <=50K, 1: >50K\n",
        "\n",
        "# Split features and labels\n",
        "X = data.drop(columns='income')\n",
        "y = data['income']\n",
        "\n",
        "#  Impute missing values\n",
        "imputer = SimpleImputer(strategy='mean')\n",
        "X_imputed = imputer.fit_transform(X)\n",
        "\n",
        "# MinMax Scaling\n",
        "scaler = MinMaxScaler()\n",
        "X_scaled = scaler.fit_transform(X_imputed)\n",
        "\n",
        "#  Train-Test Split\n",
        "X_train, X_test, y_train, y_test = train_test_split(X_scaled, y, test_size=0.2, random_state=42)\n",
        "\n",
        "#  Apply Models and Evaluate\n",
        "models = {\n",
        "    \"KNN\": KNeighborsClassifier(),\n",
        "    \"Logistic Regression\": LogisticRegression(max_iter=1000),\n",
        "    \"Decision Tree\": DecisionTreeClassifier(),\n",
        "    \"SVC\": SVC(probability=True),\n",
        "    \"MLP (ANN)\": MLPClassifier(max_iter=1000, random_state=42)\n",
        "}\n",
        "\n"
      ],
      "metadata": {
        "colab": {
          "base_uri": "https://localhost:8080/",
          "height": 715
        },
        "id": "wALagth90fj_",
        "outputId": "848ef861-7817-4aff-8c32-2b661462e429"
      },
      "execution_count": 1,
      "outputs": [
        {
          "output_type": "stream",
          "name": "stderr",
          "text": [
            "/tmp/ipython-input-1-2760007246.py:19: FutureWarning: A value is trying to be set on a copy of a DataFrame or Series through chained assignment using an inplace method.\n",
            "The behavior will change in pandas 3.0. This inplace method will never work because the intermediate object on which we are setting values always behaves as a copy.\n",
            "\n",
            "For example, when doing 'df[col].method(value, inplace=True)', try using 'df.method({col: value}, inplace=True)' or df[col] = df[col].method(value) instead, to perform the operation inplace on the original object.\n",
            "\n",
            "\n",
            "  data['workclass'].replace({'?': 'others'}, inplace=True)\n",
            "/tmp/ipython-input-1-2760007246.py:20: FutureWarning: A value is trying to be set on a copy of a DataFrame or Series through chained assignment using an inplace method.\n",
            "The behavior will change in pandas 3.0. This inplace method will never work because the intermediate object on which we are setting values always behaves as a copy.\n",
            "\n",
            "For example, when doing 'df[col].method(value, inplace=True)', try using 'df.method({col: value}, inplace=True)' or df[col] = df[col].method(value) instead, to perform the operation inplace on the original object.\n",
            "\n",
            "\n",
            "  data['occupation'].replace({'?': 'others'}, inplace=True)\n"
          ]
        },
        {
          "output_type": "display_data",
          "data": {
            "text/plain": [
              "<Figure size 640x480 with 1 Axes>"
            ],
            "image/png": "[encoded data removed]"
          },
          "metadata": {}
        }
      ]
    },
    {
      "cell_type": "code",
      "source": [
        "results = []\n",
        "for name, model in models.items():\n",
        "    model.fit(X_train, y_train)\n",
        "    y_pred = model.predict(X_test)\n",
        "    metrics = {\n",
        "        \"Model\": name,\n",
        "        \"Accuracy\": accuracy_score(y_test, y_pred),\n",
        "        \"Precision\": precision_score(y_test, y_pred),\n",
        "        \"Recall\": recall_score(y_test, y_pred),\n",
        "        \"F1 Score\": f1_score(y_test, y_pred)\n",
        "    }\n",
        "    results.append(metrics)\n",
        "    print(f\"\\n=== {name} Classification Report ===\")\n",
        "    print(classification_report(y_test, y_pred))\n",
        "\n",
        "#  Visualize Results\n",
        "results_df = pd.DataFrame(results)\n",
        "\n",
        "# Bar Graph Comparison\n",
        "results_df.set_index(\"Model\")[['Accuracy', 'Precision', 'Recall', 'F1 Score']].plot(kind='bar', figsize=(12,6))\n",
        "plt.title(\"Model Comparison - Performance Metrics\")\n",
        "plt.ylabel(\"Score\")\n",
        "plt.ylim(0, 1)\n",
        "plt.grid(axis='y')\n",
        "plt.tight_layout()\n",
        "plt.show()\n",
        "\n",
        "# Print Final Comparison Table\n",
        "print(\"\\n=== Final Comparison Table ===\")\n",
        "print(results_df.round(4))"
      ],
      "metadata": {
        "colab": {
          "base_uri": "https://localhost:8080/",
          "height": 1000
        },
        "id": "XcQfTSzL10lB",
        "outputId": "733f001d-25a9-4082-b91c-027b720b856f"
      },
      "execution_count": 2,
      "outputs": [
        {
          "output_type": "stream",
          "name": "stdout",
          "text": [
            "\n",
            "=== KNN Classification Report ===\n",
            "              precision    recall  f1-score   support\n",
            "\n",
            "           0       0.87      0.91      0.89      2851\n",
            "           1       0.67      0.56      0.61       912\n",
            "\n",
            "    accuracy                           0.83      3763\n",
            "   macro avg       0.77      0.73      0.75      3763\n",
            "weighted avg       0.82      0.83      0.82      3763\n",
            "\n",
            "\n",
            "=== Logistic Regression Classification Report ===\n",
            "              precision    recall  f1-score   support\n",
            "\n",
            "           0       0.84      0.94      0.89      2851\n",
            "           1       0.70      0.45      0.55       912\n",
            "\n",
            "    accuracy                           0.82      3763\n",
            "   macro avg       0.77      0.69      0.72      3763\n",
            "weighted avg       0.81      0.82      0.80      3763\n",
            "\n",
            "\n",
            "=== Decision Tree Classification Report ===\n",
            "              precision    recall  f1-score   support\n",
            "\n",
            "           0       0.88      0.87      0.87      2851\n",
            "           1       0.60      0.62      0.61       912\n",
            "\n",
            "    accuracy                           0.81      3763\n",
            "   macro avg       0.74      0.74      0.74      3763\n",
            "weighted avg       0.81      0.81      0.81      3763\n",
            "\n",
            "\n",
            "=== SVC Classification Report ===\n",
            "              precision    recall  f1-score   support\n",
            "\n",
            "           0       0.85      0.95      0.90      2851\n",
            "           1       0.75      0.49      0.60       912\n",
            "\n",
            "    accuracy                           0.84      3763\n",
            "   macro avg       0.80      0.72      0.75      3763\n",
            "weighted avg       0.83      0.84      0.82      3763\n",
            "\n",
            "\n",
            "=== MLP (ANN) Classification Report ===\n",
            "              precision    recall  f1-score   support\n",
            "\n",
            "           0       0.88      0.91      0.90      2851\n",
            "           1       0.70      0.62      0.66       912\n",
            "\n",
            "    accuracy                           0.84      3763\n",
            "   macro avg       0.79      0.77      0.78      3763\n",
            "weighted avg       0.84      0.84      0.84      3763\n",
            "\n"
          ]
        },
        {
          "output_type": "display_data",
          "data": {
            "text/plain": [
              "<Figure size 1200x600 with 1 Axes>"
            ],
            "image/png": "[encoded data removed]"
          },
          "metadata": {}
        },
        {
          "output_type": "stream",
          "name": "stdout",
          "text": [
            "\n",
            "=== Final Comparison Table ===\n",
            "                 Model  Accuracy  Precision  Recall  F1 Score\n",
            "0                  KNN    0.8251     0.6671  0.5559    0.6065\n",
            "1  Logistic Regression    0.8201     0.7036  0.4452    0.5453\n",
            "2        Decision Tree    0.8081     0.6008  0.6206    0.6106\n",
            "3                  SVC    0.8376     0.7521  0.4923    0.5951\n",
            "4            MLP (ANN)    0.8445     0.7011  0.6250    0.6609\n"
          ]
        }
      ]
    },
    {
      "cell_type": "code",
      "source": [
        "import pandas as pd\n",
        "from sklearn.preprocessing import LabelEncoder, MinMaxScaler\n",
        "from sklearn.svm import SVC\n",
        "from sklearn.model_selection import train_test_split\n",
        "import joblib\n",
        "\n",
        "# Load data\n",
        "data = pd.read_csv(\"/content/adult 3.csv\")\n",
        "\n",
        "# Basic cleaning\n",
        "data['workclass'].replace({'?': 'others'}, inplace=True)\n",
        "data['occupation'].replace({'?': 'others'}, inplace=True)\n",
        "data = data[data['workclass'] != 'Without-pay']\n",
        "data = data[data['workclass'] != 'Never-worked']\n",
        "data = data[~data['education'].isin(['5th-6th', '1st-4th', 'Preschool'])]\n",
        "\n",
        "if 'education' in data.columns:\n",
        "    data.drop(columns='education', inplace=True)\n",
        "\n",
        "# Encode categorical variables\n",
        "le_occupation = LabelEncoder()\n",
        "\n",
        "data['occupation'] = le_occupation.fit_transform(data['occupation'].astype(str))\n",
        "\n",
        "# Target encoding\n",
        "target_le = LabelEncoder()\n",
        "data['income'] = target_le.fit_transform(data['income'])\n",
        "\n",
        "# Select features\n",
        "features = ['age', 'hours-per-week', 'occupation'] # 'education' removed\n",
        "X = data[features]\n",
        "y = data['income']\n",
        "\n",
        "# Scale\n",
        "scaler = MinMaxScaler()\n",
        "X_scaled = scaler.fit_transform(X)\n",
        "\n",
        "# Train model\n",
        "X_train, X_test, y_train, y_test = train_test_split(X_scaled, y, test_size=0.2, random_state=42)\n",
        "model = SVC(probability=True)\n",
        "model.fit(X_train, y_train)\n",
        "\n",
        "# Save model and encoders\n",
        "joblib.dump(model, \"salary_model.pkl\")\n",
        "joblib.dump(le_occupation, \"le_occupation.pkl\")\n",
        "joblib.dump(scaler, \"scaler.pkl\")"
      ],
      "metadata": {
        "colab": {
          "base_uri": "https://localhost:8080/"
        },
        "id": "3O7Y8ZE26zO_",
        "outputId": "2aa97143-e6d6-4bb3-e0f5-8d309f3657f8"
      },
      "execution_count": 3,
      "outputs": [
        {
          "output_type": "stream",
          "name": "stderr",
          "text": [
            "/tmp/ipython-input-3-3688869629.py:11: FutureWarning: A value is trying to be set on a copy of a DataFrame or Series through chained assignment using an inplace method.\n",
            "The behavior will change in pandas 3.0. This inplace method will never work because the intermediate object on which we are setting values always behaves as a copy.\n",
            "\n",
            "For example, when doing 'df[col].method(value, inplace=True)', try using 'df.method({col: value}, inplace=True)' or df[col] = df[col].method(value) instead, to perform the operation inplace on the original object.\n",
            "\n",
            "\n",
            "  data['workclass'].replace({'?': 'others'}, inplace=True)\n",
            "/tmp/ipython-input-3-3688869629.py:12: FutureWarning: A value is trying to be set on a copy of a DataFrame or Series through chained assignment using an inplace method.\n",
            "The behavior will change in pandas 3.0. This inplace method will never work because the intermediate object on which we are setting values always behaves as a copy.\n",
            "\n",
            "For example, when doing 'df[col].method(value, inplace=True)', try using 'df.method({col: value}, inplace=True)' or df[col] = df[col].method(value) instead, to perform the operation inplace on the original object.\n",
            "\n",
            "\n",
            "  data['occupation'].replace({'?': 'others'}, inplace=True)\n"
          ]
        },
        {
          "output_type": "execute_result",
          "data": {
            "text/plain": [
              "['scaler.pkl']"
            ]
          },
          "metadata": {},
          "execution_count": 3
        }
      ]
    },
    {
      "cell_type": "code",
      "metadata": {
        "id": "93bee927"
      },
      "source": [
        "loaded_model = joblib.load(\"salary_model.pkl\")\n",
        "loaded_occupation_encoder = joblib.load(\"le_occupation.pkl\")\n",
        "loaded_scaler = joblib.load(\"scaler.pkl\")"
      ],
      "execution_count": 4,
      "outputs": []
    },
    {
      "cell_type": "code",
      "metadata": {
        "id": "22da3166"
      },
      "source": [
        "def predict_income(age, hours_per_week, education, occupation):\n",
        "    # Create a DataFrame from input\n",
        "    input_data = pd.DataFrame({\n",
        "        'age': [age],\n",
        "        'hours-per-week': [hours_per_week],\n",
        "        'education': [education],\n",
        "        'occupation': [occupation]\n",
        "    })\n",
        "\n",
        "    # Encode occupation - Handle potential unseen values\n",
        "    try:\n",
        "        input_data['occupation'] = loaded_occupation_encoder.transform(input_data['occupation'].astype(str))\n",
        "    except ValueError:\n",
        "        # Handle unseen occupation by assigning a default value or raising an error\n",
        "        # For simplicity, let's assign a value outside the range of encoded values\n",
        "        input_data['occupation'] = -1 # Or handle as needed\n",
        "\n",
        "    # Select and order features for scaling\n",
        "    features_for_scaling = input_data[['age', 'hours-per-week', 'occupation']]\n",
        "\n",
        "    # Scale numerical features\n",
        "    scaled_input = loaded_scaler.transform(features_for_scaling)\n",
        "\n",
        "    # Predict using the loaded model\n",
        "    prediction = loaded_model.predict(scaled_input)\n",
        "\n",
        "    # Convert numerical prediction back to human-readable label\n",
        "    # Assuming the target encoder was fitted on ['<=50K', '>50K'] resulting in 0 and 1\n",
        "    income_label = \"<=50K\" if prediction[0] == 0 else \">50K\"\n",
        "\n",
        "    return income_label"
      ],
      "execution_count": 5,
      "outputs": []
    },
    {
      "cell_type": "code",
      "metadata": {
        "id": "165921d1"
      },
      "source": [
        "import gradio as gr\n",
        "\n",
        "\n",
        "# Define input components\n",
        "age_input = gr.Number(label=\"Age\", minimum=0, maximum=100)\n",
        "hours_input = gr.Number(label=\"Hours per Week\", minimum=0, maximum=168)\n",
        "# Since the model only used occupation, education input will not be used in prediction\n",
        "# but we will include it in the interface as per the original request.\n",
        "education_input = gr.Textbox(label=\"Education Level\")\n",
        "occupation_input = gr.Textbox(label=\"Occupation\")\n",
        "\n",
        "# Define output component\n",
        "output_text = gr.Textbox(label=\"Predicted Income\")\n",
        "\n",
        "# Create the Gradio interface\n",
        "iface = gr.Interface(\n",
        "    fn=predict_income,\n",
        "    inputs=[age_input, hours_input, education_input, occupation_input],\n",
        "    outputs=output_text,\n",
        "    title=\"Income Prediction Model\",\n",
        "    description=\"Predict income based on age, hours worked per week, education, and occupation.\"\n",
        ")"
      ],
      "execution_count": 6,
      "outputs": []
    },
    {
      "cell_type": "code",
      "metadata": {
        "colab": {
          "base_uri": "https://localhost:8080/",
          "height": 611
        },
        "id": "ecb382eb",
        "outputId": "93bad38a-8e05-4bad-b29b-3592dcc658ca"
      },
      "source": [
        "iface.launch(share=True)"
      ],
      "execution_count": 7,
      "outputs": [
        {
          "output_type": "stream",
          "name": "stdout",
          "text": [
            "Colab notebook detected. To show errors in colab notebook, set debug=True in launch()\n",
            "* Running on public URL: https://86972cbdadd72967a5.gradio.live\n",
            "\n",
            "This share link expires in 1 week. For free permanent hosting and GPU upgrades, run `gradio deploy` from the terminal in the working directory to deploy to Hugging Face Spaces (https://huggingface.co/spaces)\n"
          ]
        },
        {
          "output_type": "display_data",
          "data": {
            "text/plain": [
              "<IPython.core.display.HTML object>"
            ],
            "text/html": [
              "<div><iframe src=\"https://86972cbdadd72967a5.gradio.live\" width=\"100%\" height=\"500\" allow=\"autoplay; camera; microphone; clipboard-read; clipboard-write;\" frameborder=\"0\" allowfullscreen></iframe></div>"
            ]
          },
          "metadata": {}
        },
        {
          "output_type": "execute_result",
          "data": {
            "text/plain": []
          },
          "metadata": {},
          "execution_count": 7
        }
      ]
    },
    {
      "cell_type": "code",
      "source": [
        "import gradio as gr\n",
        "\n",
        "# Step 1: Login UI\n",
        "def login(username, password):\n",
        "    if username == \"deeksha\" and password == \"yaminn\":\n",
        "        return gr.update(visible=True), \"Login Successful!\"\n",
        "    else:\n",
        "        return gr.update(visible=False), \"Login Failed. Try again.\"\n",
        "\n",
        "# Step 2: Salary Prediction App (hidden until login success)\n",
        "with gr.Blocks() as demo:\n",
        "    gr.Markdown(\"## 🔒 Login Now\")\n",
        "    username = gr.Textbox(label=\"Username\")\n",
        "    password = gr.Textbox(label=\"Password\", type=\"password\")\n",
        "    login_btn = gr.Button(\"LOGIN\")\n",
        "    login_msg = gr.Textbox(label=\"\", interactive=False)\n",
        "\n",
        "    # Salary Prediction Section (Initially Hidden)\n",
        "    with gr.Column(visible=False) as predict_ui:\n",
        "        gr.Markdown(\"Salary Prediction\")\n",
        "        age = gr.Number(label=\"Age\")\n",
        "        hours = gr.Number(label=\"Hours per Week\")\n",
        "        edu = gr.Textbox(label=\"Education\") # Note: This input is not used in the prediction model.\n",
        "        occ = gr.Textbox(label=\"Occupation\")\n",
        "        predict_btn = gr.Button(\"Predict\")\n",
        "        output = gr.Textbox(label=\"Predicted Income\")\n",
        "\n",
        "        # Link the predict button to the predict_income function with the correct inputs\n",
        "        predict_btn.click(fn=predict_income, inputs=[age, hours, edu, occ], outputs=output)\n",
        "\n",
        "    login_btn.click(fn=login, inputs=[username, password], outputs=[predict_ui, login_msg])\n",
        "\n",
        "demo.launch()"
      ],
      "metadata": {
        "colab": {
          "base_uri": "https://localhost:8080/",
          "height": 646
        },
        "id": "f6JBDvM6rBeT",
        "outputId": "267089ed-bdcd-4d72-c003-0f0e8908d21c"
      },
      "execution_count": 8,
      "outputs": [
        {
          "output_type": "stream",
          "name": "stdout",
          "text": [
            "It looks like you are running Gradio on a hosted a Jupyter notebook. For the Gradio app to work, sharing must be enabled. Automatically setting `share=True` (you can turn this off by setting `share=False` in `launch()` explicitly).\n",
            "\n",
            "Colab notebook detected. To show errors in colab notebook, set debug=True in launch()\n",
            "* Running on public URL: https://f67fbb025a3e8034a8.gradio.live\n",
            "\n",
            "This share link expires in 1 week. For free permanent hosting and GPU upgrades, run `gradio deploy` from the terminal in the working directory to deploy to Hugging Face Spaces (https://huggingface.co/spaces)\n"
          ]
        },
        {
          "output_type": "display_data",
          "data": {
            "text/plain": [
              "<IPython.core.display.HTML object>"
            ],
            "text/html": [
              "<div><iframe src=\"https://f67fbb025a3e8034a8.gradio.live\" width=\"100%\" height=\"500\" allow=\"autoplay; camera; microphone; clipboard-read; clipboard-write;\" frameborder=\"0\" allowfullscreen></iframe></div>"
            ]
          },
          "metadata": {}
        },
        {
          "output_type": "execute_result",
          "data": {
            "text/plain": []
          },
          "metadata": {},
          "execution_count": 8
        }
      ]
    }
  ],
  "metadata": {
    "colab": {
      "provenance": []
    },
    "kernelspec": {
      "display_name": "Python 3",
      "name": "python3"
    },
    "language_info": {
      "name": "python"
    }
  },
  "nbformat": 4,
  "nbformat_minor": 0
}